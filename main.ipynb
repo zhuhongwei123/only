{
 "cells": [
  {
   "cell_type": "code",
   "execution_count": 8,
   "metadata": {
    "collapsed": false
   },
   "outputs": [
    {
     "data": {
      "text/plain": [
       "'3.6.0 |Anaconda custom (64-bit)| (default, Dec 23 2016, 11:57:41) [MSC v.1900 64 bit (AMD64)]'"
      ]
     },
     "execution_count": 8,
     "metadata": {},
     "output_type": "execute_result"
    }
   ],
   "source": [
    "# 2019.3.21 晚上 8点开始  --------朱宏伟\n",
    "import numpy as np \n",
    "import xlrd\n",
    "import xlwt\n",
    "import sys \n",
    "import math\n",
    "import random \n",
    "from route_produce import route_produce\n",
    "from pheromone_update_local import pheromone_update_local\n",
    "from length_get import length_get\n",
    "from pheromone_update_global import pheromone_update_global\n",
    "import pandas as pd\n",
    "import matplotlib.pyplot as plt\n",
    "sys.version"
   ]
  },
  {
   "cell_type": "code",
   "execution_count": 9,
   "metadata": {
    "collapsed": false
   },
   "outputs": [
    {
     "name": "stdout",
     "output_type": "stream",
     "text": [
      "51\n"
     ]
    }
   ],
   "source": [
    "#加载测试集\n",
    "citys = xlrd.open_workbook('eil51.xls')#打开xls\n",
    "sheet = citys.sheets()[0] #读取第几个sheet\n",
    "citys_number = sheet.nrows # 读出xls的行数，即城市数\n",
    "print(citys_number)"
   ]
  },
  {
   "cell_type": "code",
   "execution_count": 10,
   "metadata": {
    "collapsed": false,
    "scrolled": true
   },
   "outputs": [
    {
     "name": "stdout",
     "output_type": "stream",
     "text": [
      "[[  0.          12.36931688  19.20937271 ...,  26.40075756  24.20743687\n",
      "   13.89244399]\n",
      " [ 12.36931688   0.          15.29705854 ...,  21.02379604  13.89244399\n",
      "   21.02379604]\n",
      " [ 19.20937271  15.29705854   0.         ...,  36.22154055  27.29468813\n",
      "   32.55764119]\n",
      " ..., \n",
      " [ 26.40075756  21.02379604  36.22154055 ...,   0.          12.04159458\n",
      "   21.63330765]\n",
      " [ 24.20743687  13.89244399  27.29468813 ...,  12.04159458   0.\n",
      "   26.17250466]\n",
      " [ 13.89244399  21.02379604  32.55764119 ...,  21.63330765  26.17250466\n",
      "    0.        ]]\n"
     ]
    }
   ],
   "source": [
    "# 计算城市之间的距离\n",
    "distance_between_city = np.zeros((citys_number,citys_number))\n",
    "for i in range(citys_number):\n",
    "    for j in range(citys_number):\n",
    "        coordinatei = sheet.row_values(i)\n",
    "        coordinatej = sheet.row_values(j)\n",
    "        coord1 = [coordinatei[m]-coordinatej[m] for m in range(len(coordinatei))] #坐标相减\n",
    "        coord2 = [coord1[i]**2 for i in range(len(coordinatei))]#每项平方\n",
    "        coord3 = sum(coord2) # 相加\n",
    "        coord4 = math.sqrt(coord3)\n",
    "        if (i ==j):\n",
    "            distance_between_city[i,j]==0\n",
    "        else:\n",
    "            distance_between_city[i,j] = coord4\n",
    "#print(distance_between_city)"
   ]
  },
  {
   "cell_type": "code",
   "execution_count": 11,
   "metadata": {
    "collapsed": false
   },
   "outputs": [],
   "source": [
    "#计算初始信息素\n",
    "citys_random = random.sample(range(0,citys_number),citys_number)\n",
    "city1 = citys_random[0]\n",
    "tabu = []\n",
    "tabu.append(city1)\n",
    "ALLOW_index=[]\n",
    "for i in range(citys_number-1):\n",
    "    ALLOW_citys = [item for item in citys_random if item not in tabu]#判断哪些城市还可以走，也可以分开写成一个for循环，一个if判断语句,\n",
    "############################################\n",
    "######返回可以走的城市的引索\n",
    "#     for j in range(len(ALLOW_citys)):\n",
    "#         ALLOW_index.append(citys_random.index(ALLOW_citys[j]))\n",
    "############################################\n",
    "#P=np.zeros([len(ALLOW_citys),1])#转移概率\n",
    "#for k in range(len(ALLOW_citys)):\n",
    "#   P[k]=1/distance_between_city[tabu[len(tabu)-1],ALLOW_citys[k]]\n",
    "############################################\n",
    "#上下两种写法都可以生成转移概率，但是上面的P是个列向量，而下面的P是个list，向量是无法append的，如果需要append，可以用np.append\n",
    "    P=[]\n",
    "    #计算转移概率\n",
    "    for k in range(len(ALLOW_citys)):\n",
    "        p=1/distance_between_city[tabu[len(tabu)-1],ALLOW_citys[k]]\n",
    "        P.append(p)\n",
    "    MAXindex = P.index(max(P))# 最近城市的引索\n",
    "    tabu.append(ALLOW_citys[MAXindex])\n",
    "#print(tabu)\n",
    "length = 0\n",
    "for j in range(len(tabu)-1):\n",
    "    length = length+distance_between_city[tabu[j],tabu[j+1]]\n",
    "length = length + distance_between_city[tabu[len(tabu)-1],tabu[0]]\n",
    "\n",
    "#初始信息素的值\n",
    "tao_set = 1/(length*citys_number)"
   ]
  },
  {
   "cell_type": "code",
   "execution_count": 12,
   "metadata": {
    "collapsed": false
   },
   "outputs": [],
   "source": [
    "#对信息素矩阵进行赋值\n",
    "tau_Matrix_ACS = np.zeros([citys_number,citys_number])\n",
    "for i in range(citys_number):\n",
    "    for j in range(citys_number):\n",
    "        if i ==j:\n",
    "            tau_Matrix_ACS[i,j]=0\n",
    "        else:\n",
    "            tau_Matrix_ACS[i,j]=tao_set\n",
    "#print(tau_Matrix_ACS)       "
   ]
  },
  {
   "cell_type": "code",
   "execution_count": 13,
   "metadata": {
    "collapsed": false
   },
   "outputs": [
    {
     "name": "stderr",
     "output_type": "stream",
     "text": [
      "C:\\acconda\\lib\\site-packages\\ipykernel\\__main__.py:7: RuntimeWarning: divide by zero encountered in true_divide\n"
     ]
    }
   ],
   "source": [
    "#蚁群算法的参数\n",
    "ant_number = 5\n",
    "alpha_ACS= 1\n",
    "beta_ACS= 4\n",
    "rho_global_ACS = 0.3                  \n",
    "rho_local_ACS = 0.1\n",
    "Eta= 1/distance_between_city\n",
    "#print(Eta)\n",
    "iter_max = 50\n",
    "q0 = 0.8\n",
    "length_best_ACS=0\n",
    "min_PL_ACS=[]\n",
    "min_route=[]\n"
   ]
  },
  {
   "cell_type": "code",
   "execution_count": 14,
   "metadata": {
    "collapsed": false,
    "scrolled": false
   },
   "outputs": [
    {
     "name": "stdout",
     "output_type": "stream",
     "text": [
      "最短距离： 517.751265131\n",
      "最优路径： [12 40 18 41 43 14 44 32  9 19 34 35  2 27 30  7 25  6 22 47 26 50 45 11 46\n",
      "  3 16 36  4 37 10 31  0 21  1 15 49  8 48 29 33 20 28 38 17 13 24 23 42  5\n",
      " 39]\n"
     ]
    }
   ],
   "source": [
    "##整个蚁群算法的框架\n",
    "\n",
    "for ite in range(iter_max):\n",
    "    route_all_ants,tau_Matrix_ACS = route_produce(ant_number,citys_number,distance_between_city,tau_Matrix_ACS,alpha_ACS,beta_ACS,Eta,q0,rho_local_ACS,tao_set)\n",
    "    length_best_ACS,min_route = length_get(length_best_ACS,ite,route_all_ants,ant_number,citys_number,distance_between_city,min_PL_ACS,min_route)\n",
    "    min_PL_ACS.append(length_best_ACS)\n",
    "    ########如果想加入3-opt在下面写程序\n",
    "    #写在这里\n",
    "    ##########\n",
    "    tau_Matrix_ACS = pheromone_update_global(tau_Matrix_ACS,rho_global_ACS,citys_number,min_route,length_best_ACS)\n",
    "print('最短距离：',length_best_ACS)\n",
    "print('最优路径：',min_route)\n"
   ]
  },
  {
   "cell_type": "code",
   "execution_count": 15,
   "metadata": {
    "collapsed": false,
    "slideshow": {
     "slide_type": "-"
    }
   },
   "outputs": [
    {
     "data": {
      "image/png": "[encoded data removed]",
      "text/plain": [
       "<matplotlib.figure.Figure at 0x2c96d836b38>"
      ]
     },
     "metadata": {},
     "output_type": "display_data"
    }
   ],
   "source": [
    "####下面是迭代曲线的绘制\n",
    "x = [x for x in range(iter_max)]#x轴\n",
    "plt.xlim(0.0, iter_max) # 限制x轴值的范围\n",
    "y = min_PL_ACS # y轴\n",
    "plt.xlabel('iter')\n",
    "plt.ylabel('length')\n",
    "plt.plot(x,y) #画图\n",
    "#plt.savefig('./test.jpg')#保存生成的图片，注意每次保存的名字需要修改，或者是写一个自动化命名的程序\n",
    "plt.show()"
   ]
  },
  {
   "cell_type": "code",
   "execution_count": 16,
   "metadata": {
    "collapsed": false
   },
   "outputs": [
    {
     "data": {
      "image/png": "[encoded data removed]",
      "text/plain": [
       "<matplotlib.figure.Figure at 0x2c96d837be0>"
      ]
     },
     "metadata": {},
     "output_type": "display_data"
    }
   ],
   "source": [
    "######蚁群地图的绘制,使用panda可以更好的读取表格，txt的一些数据\n",
    "citys = pd.read_excel('eil51.xls',header = None)\n",
    "citys_array = citys.values\n",
    "#print(citys_array)\n",
    "x = []\n",
    "y = []\n",
    "for i in range(citys_number):\n",
    "    a = citys_array[i,0]\n",
    "    x.append(a)\n",
    "for j in range(citys_number):\n",
    "    b = citys_array[j,1]\n",
    "    y.append(b)\n",
    "plt.grid()#网格线\n",
    "plt.xlabel('coordinate')\n",
    "plt.ylabel('coordinate')\n",
    "plt.scatter(x, y, marker = 'x',color = 'red', s = 20)\n",
    "for i in range(citys_number-1):\n",
    "    x = [citys_array[min_route[i],0],citys_array[min_route[i+1],0]]\n",
    "    y = [citys_array[min_route[i],1],citys_array[min_route[i+1],1]]\n",
    "    plt.plot(x,y,color = 'b')\n",
    "x = [citys_array[min_route[0],0],citys_array[min_route[citys_number-1],0]]\n",
    "y = [citys_array[min_route[0],1],citys_array[min_route[citys_number-1],1]]\n",
    "#print(y)\n",
    "plt.plot(x,y,color = 'b')\n",
    "plt.show()"
   ]
  },
  {
   "cell_type": "code",
   "execution_count": null,
   "metadata": {
    "collapsed": true
   },
   "outputs": [],
   "source": []
  }
 ],
 "metadata": {
  "celltoolbar": "Slideshow",
  "kernelspec": {
   "display_name": "Python 3",
   "language": "python",
   "name": "python3"
  },
  "language_info": {
   "codemirror_mode": {
    "name": "ipython",
    "version": 3
   },
   "file_extension": ".py",
   "mimetype": "text/x-python",
   "name": "python",
   "nbconvert_exporter": "python",
   "pygments_lexer": "ipython3",
   "version": "3.6.0"
  }
 },
 "nbformat": 4,
 "nbformat_minor": 2
}
